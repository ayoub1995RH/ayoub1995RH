{
  "nbformat": 4,
  "nbformat_minor": 0,
  "metadata": {
    "colab": {
      "name": "checkpoint1.ipynb",
      "provenance": [],
      "collapsed_sections": []
    },
    "kernelspec": {
      "name": "python3",
      "display_name": "Python 3"
    },
    "language_info": {
      "name": "python"
    }
  },
  "cells": [
    {
      "cell_type": "code",
      "execution_count": 2,
      "metadata": {
        "colab": {
          "base_uri": "https://localhost:8080/"
        },
        "id": "k8HyiIZxCuVj",
        "outputId": "42eff7e4-657a-49f0-e62e-85c2c2a5b8ff"
      },
      "outputs": [
        {
          "output_type": "stream",
          "name": "stdout",
          "text": [
            "bienvenue dans le monde python ! commençons à coder\n"
          ]
        }
      ],
      "source": [
        "print (\"bienvenue dans le monde python ! commençons à coder\")"
      ]
    }
  ]
}